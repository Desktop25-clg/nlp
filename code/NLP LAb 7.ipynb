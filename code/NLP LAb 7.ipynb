{
 "cells": [
  {
   "cell_type": "code",
   "execution_count": 1,
   "metadata": {},
   "outputs": [
    {
     "name": "stderr",
     "output_type": "stream",
     "text": [
      "[nltk_data] Downloading package punkt to\n",
      "[nltk_data]     C:\\Users\\Administrator\\AppData\\Roaming\\nltk_data...\n",
      "[nltk_data]   Package punkt is already up-to-date!\n",
      "[nltk_data] Downloading package averaged_perceptron_tagger to\n",
      "[nltk_data]     C:\\Users\\Administrator\\AppData\\Roaming\\nltk_data...\n"
     ]
    },
    {
     "name": "stdout",
     "output_type": "stream",
     "text": [
      "(NP The/DT quick/JJ brown/NN)\n",
      "(NP fox/NN)\n",
      "(NP the/DT lazy/JJ dog/NN)\n"
     ]
    },
    {
     "name": "stderr",
     "output_type": "stream",
     "text": [
      "[nltk_data]   Unzipping taggers\\averaged_perceptron_tagger.zip.\n"
     ]
    }
   ],
   "source": [
    "import nltk\n",
    "from nltk import RegexpParser\n",
    "from nltk.tokenize import word_tokenize\n",
    "from nltk.tag import pos_tag\n",
    "\n",
    "\n",
    "nltk.download('punkt')\n",
    "nltk.download('averaged_perceptron_tagger')\n",
    "\n",
    "sentence = \"The quick brown fox jumps over the lazy dog\"\n",
    "\n",
    "tokens = word_tokenize(sentence)\n",
    "tagged = pos_tag(tokens)\n",
    "\n",
    "chunk_grammar = r\"\"\"\n",
    "NP: {<DT>?<JJ>*<NN>}\n",
    "\"\"\"\n",
    "\n",
    "chunk_parser = RegexpParser(chunk_grammar)\n",
    "\n",
    "\n",
    "chunks = chunk_parser.parse(tagged)\n",
    "\n",
    "for subtree in chunks.subtrees():\n",
    "    if subtree.label() == 'NP': # Print only noun phrases\n",
    "        print(subtree)"
   ]
  },
  {
   "cell_type": "code",
   "execution_count": null,
   "metadata": {},
   "outputs": [],
   "source": [
    "import nltk\n",
    "import os\n",
    "\n",
    "nltk.data.path.append(\"/usr/local/share/nltk_data\")\n",
    "\n",
    "nltk.download('punkt')\n",
    "nltk.download('averaged_perceptron_tagger')\n",
    "\n",
    "text = \"The quick brown fox jumps over the lazy dog.\"\n",
    "\n",
    "words = nltk.word_tokenize(text)\n",
    "\n",
    "pos_tags = nltk.pos_tag(words)\n",
    "\n",
    "chunk_grammar = r\"\"\"\n",
    "    NP: {<DT>?<JJ>*<NN>} # Chunk sequences of DT, JJ, NN\n",
    "\"\"\"\n",
    "\n",
    "chunk_parser = nltk.RegexpParser(chunk_grammar)\n",
    "\n",
    "chunked_text = chunk_parser.parse(pos_tags)\n",
    "\n",
    "noun_phrases = []\n",
    "for subtree in chunked_text.subtrees(filter=lambda t: t.label() == 'NP'):\n",
    "    noun_phrases.append(' '.join(word for word, tag in subtree.leaves()))\n",
    "\n",
    "print(\"Original Text:\", text)\n",
    "print(\"Noun Phrases:\")\n",
    "for phrase in noun_phrases:\n",
    "    print(\"-\", phrase)\n"
   ]
  }
 ],
 "metadata": {
  "kernelspec": {
   "display_name": "Python 3",
   "language": "python",
   "name": "python3"
  },
  "language_info": {
   "codemirror_mode": {
    "name": "ipython",
    "version": 3
   },
   "file_extension": ".py",
   "mimetype": "text/x-python",
   "name": "python",
   "nbconvert_exporter": "python",
   "pygments_lexer": "ipython3",
   "version": "3.12.2"
  }
 },
 "nbformat": 4,
 "nbformat_minor": 2
}
